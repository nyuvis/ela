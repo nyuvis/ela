{
 "cells": [
  {
   "cell_type": "code",
   "execution_count": 1,
   "metadata": {},
   "outputs": [],
   "source": [
    "from texas.clients import get_instance"
   ]
  },
  {
   "cell_type": "code",
   "execution_count": 6,
   "metadata": {},
   "outputs": [],
   "source": [
    "ES_HOST=\"nyuvis-web.poly.edu\"\n",
    "ES_PORT=80\n",
    "ES_PATH=\"es\""
   ]
  },
  {
   "cell_type": "code",
   "execution_count": 7,
   "metadata": {},
   "outputs": [],
   "source": [
    "data_destination = {\n",
    "    \"type\": \"ElasticSearch\",\n",
    "    \"name\": \"Yelp\",\n",
    "    \"connection\": {\n",
    "        \"client\": {\n",
    "            \"hosts\": [{\n",
    "                \"host\": ES_HOST,\n",
    "                    \"port\": ES_PORT, \n",
    "                    \"path\":ES_PATH\n",
    "                }]\n",
    "            },\n",
    "        \"index\": \"nips_papers\",\n",
    "        \"type\": \"document\"\n",
    "    }\n",
    "}"
   ]
  },
  {
   "cell_type": "code",
   "execution_count": 8,
   "metadata": {},
   "outputs": [],
   "source": [
    "client = get_instance(\"ElasticSearch\", data_destination[\"connection\"])"
   ]
  },
  {
   "cell_type": "code",
   "execution_count": 10,
   "metadata": {},
   "outputs": [
    {
     "name": "stdout",
     "output_type": "stream",
     "text": [
      "Neural Network Ensembles, Cross Validation, and Active Learning\n"
     ]
    }
   ],
   "source": [
    "for f in client.scan():\n",
    "    print(f[1][\"title\"])\n",
    "    yield f[1][\"title\"]\n",
    "    break"
   ]
  },
  {
   "cell_type": "code",
   "execution_count": null,
   "metadata": {},
   "outputs": [],
   "source": []
  },
  {
   "cell_type": "code",
   "execution_count": null,
   "metadata": {},
   "outputs": [],
   "source": []
  },
  {
   "cell_type": "code",
   "execution_count": null,
   "metadata": {},
   "outputs": [],
   "source": []
  },
  {
   "cell_type": "code",
   "execution_count": 11,
   "metadata": {},
   "outputs": [
    {
     "name": "stdout",
     "output_type": "stream",
     "text": [
      "http://nyuvis-web.poly.edu/projects/texas/api\n"
     ]
    }
   ],
   "source": [
    "texas_client = get_instance(\"TexasApi\", {\"url\": \"http://nyuvis-web.poly.edu/projects/texas/api\"})"
   ]
  },
  {
   "cell_type": "code",
   "execution_count": 19,
   "metadata": {},
   "outputs": [],
   "source": [
    "query = \"\"\"\n",
    "query getDat($ID:ID){\n",
    " Dataset(ID:$ID){\n",
    "  Select{\n",
    "    Values(field: \"text\", size:100){\n",
    "      Key\n",
    "      Stat\n",
    "    }\n",
    "  }\n",
    "}\n",
    "}\n",
    "\"\"\"\n",
    "res = texas_client.query({\"query\":query, \"variables\":{\"ID\":7}})"
   ]
  },
  {
   "cell_type": "code",
   "execution_count": 20,
   "metadata": {},
   "outputs": [
    {
     "data": {
      "text/plain": [
       "[{'Key': 'good', 'Stat': 10005},\n",
       " {'Key': 'place', 'Stat': 9690},\n",
       " {'Key': 'food', 'Stat': 9560},\n",
       " {'Key': 'great', 'Stat': 8650},\n",
       " {'Key': 'service', 'Stat': 7047},\n",
       " {'Key': 'time', 'Stat': 6636},\n",
       " {'Key': \"it's\", 'Stat': 6098},\n",
       " {'Key': 'will', 'Stat': 5201},\n",
       " {'Key': 'nice', 'Stat': 4646},\n",
       " {'Key': 'best', 'Stat': 4554},\n",
       " {'Key': 'well', 'Stat': 4375},\n",
       " {'Key': \"i'm\", 'Stat': 4088},\n",
       " {'Key': 'staff', 'Stat': 3713},\n",
       " {'Key': 'friendly', 'Stat': 3638},\n",
       " {'Key': 'love', 'Stat': 3477},\n",
       " {'Key': 'people', 'Stat': 3352},\n",
       " {'Key': 'restaurant', 'Stat': 3295},\n",
       " {'Key': 'ordered', 'Stat': 3255},\n",
       " {'Key': 'pretty', 'Stat': 3237},\n",
       " {'Key': 'pittsburgh', 'Stat': 3167},\n",
       " {'Key': 'definitely', 'Stat': 3080},\n",
       " {'Key': 'going', 'Stat': 3068},\n",
       " {'Key': 'order', 'Stat': 2995},\n",
       " {'Key': 'better', 'Stat': 2989},\n",
       " {'Key': 'delicious', 'Stat': 2977},\n",
       " {'Key': 'experience', 'Stat': 2967},\n",
       " {'Key': 'bar', 'Stat': 2876},\n",
       " {'Key': 'night', 'Stat': 2812},\n",
       " {'Key': 'menu', 'Stat': 2790},\n",
       " {'Key': 'day', 'Stat': 2717},\n",
       " {'Key': 'cheese', 'Stat': 2660},\n",
       " {'Key': 'sure', 'Stat': 2486},\n",
       " {'Key': 'chicken', 'Stat': 2468},\n",
       " {'Key': 'find', 'Stat': 2410},\n",
       " {'Key': 'wait', 'Stat': 2337},\n",
       " {'Key': 'area', 'Stat': 2336},\n",
       " {'Key': 'eat', 'Stat': 2325},\n",
       " {'Key': 'lot', 'Stat': 2291},\n",
       " {'Key': 'times', 'Stat': 2266},\n",
       " {'Key': '2', 'Stat': 2263},\n",
       " {'Key': 'bad', 'Stat': 2242},\n",
       " {'Key': 'amazing', 'Stat': 2210},\n",
       " {'Key': 'recommend', 'Stat': 2192},\n",
       " {'Key': 'bit', 'Stat': 2183},\n",
       " {'Key': 'dinner', 'Stat': 2175},\n",
       " {'Key': 'meal', 'Stat': 2159},\n",
       " {'Key': 'small', 'Stat': 2151},\n",
       " {'Key': 'fresh', 'Stat': 2089},\n",
       " {'Key': 'sauce', 'Stat': 2063},\n",
       " {'Key': 'lunch', 'Stat': 2007},\n",
       " {'Key': \"wasn't\", 'Stat': 1970},\n",
       " {'Key': 'years', 'Stat': 1970},\n",
       " {'Key': '5', 'Stat': 1958},\n",
       " {'Key': 'table', 'Stat': 1946},\n",
       " {'Key': 'work', 'Stat': 1931},\n",
       " {'Key': 'long', 'Stat': 1930},\n",
       " {'Key': 'price', 'Stat': 1923},\n",
       " {'Key': 'favorite', 'Stat': 1920},\n",
       " {'Key': 'prices', 'Stat': 1920},\n",
       " {'Key': '3', 'Stat': 1917},\n",
       " {'Key': 'room', 'Stat': 1898},\n",
       " {'Key': 'selection', 'Stat': 1891},\n",
       " {'Key': 'minutes', 'Stat': 1875},\n",
       " {'Key': 'charlotte', 'Stat': 1869},\n",
       " {'Key': \"you're\", 'Stat': 1869},\n",
       " {'Key': 'salad', 'Stat': 1861},\n",
       " {'Key': 'thing', 'Stat': 1844},\n",
       " {'Key': 'location', 'Stat': 1843},\n",
       " {'Key': 'big', 'Stat': 1833},\n",
       " {'Key': 'worth', 'Stat': 1814},\n",
       " {'Key': 'side', 'Stat': 1801},\n",
       " {'Key': 'atmosphere', 'Stat': 1799},\n",
       " {'Key': 'things', 'Stat': 1789},\n",
       " {'Key': 'pizza', 'Stat': 1749},\n",
       " {'Key': 'feel', 'Stat': 1744},\n",
       " {'Key': 'awesome', 'Stat': 1711},\n",
       " {'Key': 'hot', 'Stat': 1692},\n",
       " {'Key': 'excellent', 'Stat': 1687},\n",
       " {'Key': 'beer', 'Stat': 1667},\n",
       " {'Key': \"that's\", 'Stat': 1664},\n",
       " {'Key': 'asked', 'Stat': 1662},\n",
       " {'Key': 'special', 'Stat': 1646},\n",
       " {'Key': 'drinks', 'Stat': 1634},\n",
       " {'Key': 'visit', 'Stat': 1622},\n",
       " {'Key': 'told', 'Stat': 1598},\n",
       " {'Key': 'wanted', 'Stat': 1595},\n",
       " {'Key': 'bread', 'Stat': 1589},\n",
       " {'Key': '4', 'Stat': 1585},\n",
       " {'Key': 'store', 'Stat': 1559},\n",
       " {'Key': 'quality', 'Stat': 1536},\n",
       " {'Key': 'places', 'Stat': 1528},\n",
       " {'Key': 'parking', 'Stat': 1521},\n",
       " {'Key': 'check', 'Stat': 1516},\n",
       " {'Key': '10', 'Stat': 1495},\n",
       " {'Key': 'stars', 'Stat': 1494},\n",
       " {'Key': 'large', 'Stat': 1491},\n",
       " {'Key': 'top', 'Stat': 1468},\n",
       " {'Key': 'huge', 'Stat': 1466},\n",
       " {'Key': 'free', 'Stat': 1442},\n",
       " {'Key': 'clean', 'Stat': 1441}]"
      ]
     },
     "execution_count": 20,
     "metadata": {},
     "output_type": "execute_result"
    }
   ],
   "source": [
    "res['data']['Dataset']['Select']['Values']"
   ]
  },
  {
   "cell_type": "code",
   "execution_count": null,
   "metadata": {},
   "outputs": [],
   "source": []
  }
 ],
 "metadata": {
  "kernelspec": {
   "display_name": "Python 3",
   "language": "python",
   "name": "python3"
  },
  "language_info": {
   "codemirror_mode": {
    "name": "ipython",
    "version": 3
   },
   "file_extension": ".py",
   "mimetype": "text/x-python",
   "name": "python",
   "nbconvert_exporter": "python",
   "pygments_lexer": "ipython3",
   "version": "3.6.4"
  }
 },
 "nbformat": 4,
 "nbformat_minor": 2
}
