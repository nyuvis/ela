{
 "cells": [
  {
   "cell_type": "code",
   "execution_count": 1,
   "metadata": {},
   "outputs": [],
   "source": [
    "%load_ext autoreload\n",
    "%autoreload 2"
   ]
  },
  {
   "cell_type": "markdown",
   "metadata": {},
   "source": [
    "# Dataset Name"
   ]
  },
  {
   "cell_type": "code",
   "execution_count": 2,
   "metadata": {},
   "outputs": [],
   "source": [
    "DATASET_NAME = \"Criminal Forum\" "
   ]
  },
  {
   "cell_type": "markdown",
   "metadata": {},
   "source": [
    "# [All] Load Basic Libraries"
   ]
  },
  {
   "cell_type": "code",
   "execution_count": 3,
   "metadata": {},
   "outputs": [],
   "source": [
    "import os\n",
    "import sys\n",
    "import json\n",
    "import logging\n",
    "import numpy as np\n",
    "import csv\n",
    "from texas.store import DataStore\n",
    "from texas.api.embeddings import learn_embedding\n",
    "from texas.api.projection import learn_projection\n",
    "from texas.clients import get_instance\n",
    "from shutil import copyfile\n",
    "csv.field_size_limit(sys.maxsize)\n",
    "logging.basicConfig(level=logging.INFO, format='%(asctime)s %(levelname)s %(message)s')\n",
    "DATA_FOLDER = \"/data\""
   ]
  },
  {
   "cell_type": "markdown",
   "metadata": {},
   "source": [
    "# [All] Load Dataset Specification"
   ]
  },
  {
   "cell_type": "code",
   "execution_count": 8,
   "metadata": {},
   "outputs": [],
   "source": [
    "dataset_scripts = \"{data_folder}/{dataset}/scripts\".format(dataset=DATASET_NAME, data_folder=DATA_FOLDER)\n",
    "if dataset_scripts not in sys.path:\n",
    "    sys.path.append(dataset_scripts)\n",
    "\n",
    "from import_info import get_spec\n",
    "SPEC, data_dunctions = get_spec()"
   ]
  },
  {
   "cell_type": "markdown",
   "metadata": {},
   "source": [
    "### Check"
   ]
  },
  {
   "cell_type": "code",
   "execution_count": 9,
   "metadata": {},
   "outputs": [
    {
     "name": "stdout",
     "output_type": "stream",
     "text": [
      "{\n",
      "    \"data_source\": {\n",
      "        \"connection\": {\n",
      "            \"type\": \"Folder\",\n",
      "            \"connection\": {\n",
      "                \"path\": \"/data/Criminal Forum/raw/\",\n",
      "                \"file_extension\": \"txt\",\n",
      "                \"id_pattern\": \"0-initiator\\\\K[0-9]+\",\n",
      "                \"folder_field\": \"Forum\"\n",
      "            }\n",
      "        },\n",
      "        \"idField\": \"id\"\n",
      "    },\n",
      "    \"data_destination\": {\n",
      "        \"connection\": {\n",
      "            \"type\": \"ElasticSearch\",\n",
      "            \"name\": \"Criminal Forum\",\n",
      "            \"connection\": {\n",
      "                \"client\": {\n",
      "                    \"hosts\": [\n",
      "                        {\n",
      "                            \"host\": \"elasticsearch\",\n",
      "                            \"port\": \"9200\",\n",
      "                            \"path\": \"\"\n",
      "                        }\n",
      "                    ]\n",
      "                },\n",
      "                \"index\": \"criminal-forum\",\n",
      "                \"type\": \"document\"\n",
      "            }\n",
      "        },\n",
      "        \"skip_creation\": false,\n",
      "        \"delete_if_exists\": true,\n",
      "        \"text_fields\": [\n",
      "            \"text\"\n",
      "        ],\n",
      "        \"other_fields\": []\n",
      "    },\n",
      "    \"texas\": {\n",
      "        \"connection\": {\n",
      "            \"type\": \"TexasApi\",\n",
      "            \"connection\": {\n",
      "                \"url\": \"http://texas-api:4200/api\"\n",
      "            }\n",
      "        }\n",
      "    },\n",
      "    \"process\": {\n",
      "        \"D2V\": {\n",
      "            \"fields\": [\n",
      "                \"text\"\n",
      "            ],\n",
      "            \"method\": {\n",
      "                \"method\": \"DOC2VEC\",\n",
      "                \"iterations\": 20\n",
      "            }\n",
      "        },\n",
      "        \"TSNE\": {\n",
      "            \"fields\": [\n",
      "                \"text\"\n",
      "            ],\n",
      "            \"data_source\": {\n",
      "                \"type\": \"TexasStore\",\n",
      "                \"namespace\": \"Criminal Forum\",\n",
      "                \"loader\": \"D2V\",\n",
      "                \"query\": {\n",
      "                    \"type\": \"sample\",\n",
      "                    \"size\": 10000\n",
      "                }\n",
      "            },\n",
      "            \"method\": {\n",
      "                \"method\": \"TSNE\",\n",
      "                \"perplexity\": 30\n",
      "            }\n",
      "        }\n",
      "    }\n",
      "}\n"
     ]
    }
   ],
   "source": [
    "print(json.dumps(SPEC, indent=4))"
   ]
  },
  {
   "cell_type": "markdown",
   "metadata": {},
   "source": [
    "# [Import] Load Origin DataSource"
   ]
  },
  {
   "cell_type": "code",
   "execution_count": 10,
   "metadata": {},
   "outputs": [],
   "source": [
    "data_source_info = SPEC[\"data_source\"]\n",
    "data_source_connection = data_source_info[\"connection\"]\n",
    "data_source = get_instance(data_source_connection[\"type\"],data_source_connection[\"connection\"])"
   ]
  },
  {
   "cell_type": "code",
   "execution_count": 11,
   "metadata": {},
   "outputs": [],
   "source": [
    "def get_source_data():\n",
    "    data_source_gen = data_source.scan(idField=data_source_info.get(\"idField\", None))    \n",
    "    if \"transform\" in data_dunctions:\n",
    "        data_source_gen = data_dunctions[\"transform\"](data_source_gen)\n",
    "    return data_source_gen"
   ]
  },
  {
   "cell_type": "markdown",
   "metadata": {},
   "source": [
    "### Check"
   ]
  },
  {
   "cell_type": "code",
   "execution_count": 12,
   "metadata": {},
   "outputs": [
    {
     "name": "stdout",
     "output_type": "stream",
     "text": [
      "ID:  4087116\n",
      "{\n",
      "    \"id\": \"4087116\",\n",
      "    \"Forum\": \"Server Stress Testing\",\n",
      "    \"text\": \"Buying DSTAT SERVICE\\n\\n\\n\\t\\t\\t\\t\\tI need this one done quick. PM me so we can get it going.\\n\\t\\t\\t\\t\"\n",
      "}\n"
     ]
    }
   ],
   "source": [
    "for _id, d in get_source_data():\n",
    "    print(\"ID: \", _id)\n",
    "    print(json.dumps(d, indent=4))\n",
    "    break"
   ]
  },
  {
   "cell_type": "markdown",
   "metadata": {},
   "source": [
    "# [All] Instantiate Dataset Object"
   ]
  },
  {
   "cell_type": "code",
   "execution_count": 13,
   "metadata": {},
   "outputs": [],
   "source": [
    "dataset_info = SPEC[\"data_destination\"]\n",
    "dataset_connection = dataset_info[\"connection\"]\n",
    "dataset = get_instance(dataset_connection[\"type\"], dataset_connection[\"connection\"])"
   ]
  },
  {
   "cell_type": "markdown",
   "metadata": {},
   "source": [
    "# [Import] (Re)Create Index"
   ]
  },
  {
   "cell_type": "code",
   "execution_count": 14,
   "metadata": {},
   "outputs": [
    {
     "name": "stderr",
     "output_type": "stream",
     "text": [
      "2018-02-27 22:43:49,599 WARNING DELETE http://elasticsearch:9200/criminal-forum [status:404 request:0.145s]\n"
     ]
    },
    {
     "ename": "NotFoundError",
     "evalue": "TransportError(404, 'index_not_found_exception', 'no such index')",
     "output_type": "error",
     "traceback": [
      "\u001b[0;31m\u001b[0m",
      "\u001b[0;31mNotFoundError\u001b[0mTraceback (most recent call last)",
      "\u001b[0;32m<ipython-input-14-2a54416aa8ff>\u001b[0m in \u001b[0;36m<module>\u001b[0;34m()\u001b[0m\n\u001b[1;32m      1\u001b[0m \u001b[0;32mif\u001b[0m \u001b[0mdataset_info\u001b[0m\u001b[0;34m.\u001b[0m\u001b[0mget\u001b[0m\u001b[0;34m(\u001b[0m\u001b[0;34m\"delete_if_exists\"\u001b[0m\u001b[0;34m,\u001b[0m \u001b[0;32mFalse\u001b[0m\u001b[0;34m)\u001b[0m\u001b[0;34m:\u001b[0m\u001b[0;34m\u001b[0m\u001b[0m\n\u001b[0;32m----> 2\u001b[0;31m     \u001b[0mdataset\u001b[0m\u001b[0;34m.\u001b[0m\u001b[0mdelete_repository\u001b[0m\u001b[0;34m(\u001b[0m\u001b[0;34m)\u001b[0m\u001b[0;34m\u001b[0m\u001b[0m\n\u001b[0m",
      "\u001b[0;32m/app/texas/clients/elasticsearch.py\u001b[0m in \u001b[0;36mdelete_repository\u001b[0;34m(self)\u001b[0m\n\u001b[1;32m    164\u001b[0m         self.client.indices.delete(\n\u001b[1;32m    165\u001b[0m             \u001b[0mindex\u001b[0m\u001b[0;34m=\u001b[0m\u001b[0mself\u001b[0m\u001b[0;34m.\u001b[0m\u001b[0mindex\u001b[0m\u001b[0;34m,\u001b[0m\u001b[0;34m\u001b[0m\u001b[0m\n\u001b[0;32m--> 166\u001b[0;31m             \u001b[0mignore\u001b[0m\u001b[0;34m=\u001b[0m\u001b[0;36m400\u001b[0m\u001b[0;34m\u001b[0m\u001b[0m\n\u001b[0m\u001b[1;32m    167\u001b[0m         )\n\u001b[1;32m    168\u001b[0m \u001b[0;34m\u001b[0m\u001b[0m\n",
      "\u001b[0;32m/usr/local/lib/python3.6/site-packages/elasticsearch/client/utils.py\u001b[0m in \u001b[0;36m_wrapped\u001b[0;34m(*args, **kwargs)\u001b[0m\n\u001b[1;32m     74\u001b[0m                 \u001b[0;32mif\u001b[0m \u001b[0mp\u001b[0m \u001b[0;32min\u001b[0m \u001b[0mkwargs\u001b[0m\u001b[0;34m:\u001b[0m\u001b[0;34m\u001b[0m\u001b[0m\n\u001b[1;32m     75\u001b[0m                     \u001b[0mparams\u001b[0m\u001b[0;34m[\u001b[0m\u001b[0mp\u001b[0m\u001b[0;34m]\u001b[0m \u001b[0;34m=\u001b[0m \u001b[0mkwargs\u001b[0m\u001b[0;34m.\u001b[0m\u001b[0mpop\u001b[0m\u001b[0;34m(\u001b[0m\u001b[0mp\u001b[0m\u001b[0;34m)\u001b[0m\u001b[0;34m\u001b[0m\u001b[0m\n\u001b[0;32m---> 76\u001b[0;31m             \u001b[0;32mreturn\u001b[0m \u001b[0mfunc\u001b[0m\u001b[0;34m(\u001b[0m\u001b[0;34m*\u001b[0m\u001b[0margs\u001b[0m\u001b[0;34m,\u001b[0m \u001b[0mparams\u001b[0m\u001b[0;34m=\u001b[0m\u001b[0mparams\u001b[0m\u001b[0;34m,\u001b[0m \u001b[0;34m**\u001b[0m\u001b[0mkwargs\u001b[0m\u001b[0;34m)\u001b[0m\u001b[0;34m\u001b[0m\u001b[0m\n\u001b[0m\u001b[1;32m     77\u001b[0m         \u001b[0;32mreturn\u001b[0m \u001b[0m_wrapped\u001b[0m\u001b[0;34m\u001b[0m\u001b[0m\n\u001b[1;32m     78\u001b[0m     \u001b[0;32mreturn\u001b[0m \u001b[0m_wrapper\u001b[0m\u001b[0;34m\u001b[0m\u001b[0m\n",
      "\u001b[0;32m/usr/local/lib/python3.6/site-packages/elasticsearch/client/indices.py\u001b[0m in \u001b[0;36mdelete\u001b[0;34m(self, index, params)\u001b[0m\n\u001b[1;32m    186\u001b[0m             \u001b[0;32mraise\u001b[0m \u001b[0mValueError\u001b[0m\u001b[0;34m(\u001b[0m\u001b[0;34m\"Empty value passed for a required argument 'index'.\"\u001b[0m\u001b[0;34m)\u001b[0m\u001b[0;34m\u001b[0m\u001b[0m\n\u001b[1;32m    187\u001b[0m         return self.transport.perform_request('DELETE', _make_path(index),\n\u001b[0;32m--> 188\u001b[0;31m             params=params)\n\u001b[0m\u001b[1;32m    189\u001b[0m \u001b[0;34m\u001b[0m\u001b[0m\n\u001b[1;32m    190\u001b[0m     @query_params('allow_no_indices', 'expand_wildcards', 'flat_settings',\n",
      "\u001b[0;32m/usr/local/lib/python3.6/site-packages/elasticsearch/transport.py\u001b[0m in \u001b[0;36mperform_request\u001b[0;34m(self, method, url, headers, params, body)\u001b[0m\n\u001b[1;32m    312\u001b[0m \u001b[0;34m\u001b[0m\u001b[0m\n\u001b[1;32m    313\u001b[0m             \u001b[0;32mtry\u001b[0m\u001b[0;34m:\u001b[0m\u001b[0;34m\u001b[0m\u001b[0m\n\u001b[0;32m--> 314\u001b[0;31m                 \u001b[0mstatus\u001b[0m\u001b[0;34m,\u001b[0m \u001b[0mheaders\u001b[0m\u001b[0;34m,\u001b[0m \u001b[0mdata\u001b[0m \u001b[0;34m=\u001b[0m \u001b[0mconnection\u001b[0m\u001b[0;34m.\u001b[0m\u001b[0mperform_request\u001b[0m\u001b[0;34m(\u001b[0m\u001b[0mmethod\u001b[0m\u001b[0;34m,\u001b[0m \u001b[0murl\u001b[0m\u001b[0;34m,\u001b[0m \u001b[0mparams\u001b[0m\u001b[0;34m,\u001b[0m \u001b[0mbody\u001b[0m\u001b[0;34m,\u001b[0m \u001b[0mheaders\u001b[0m\u001b[0;34m=\u001b[0m\u001b[0mheaders\u001b[0m\u001b[0;34m,\u001b[0m \u001b[0mignore\u001b[0m\u001b[0;34m=\u001b[0m\u001b[0mignore\u001b[0m\u001b[0;34m,\u001b[0m \u001b[0mtimeout\u001b[0m\u001b[0;34m=\u001b[0m\u001b[0mtimeout\u001b[0m\u001b[0;34m)\u001b[0m\u001b[0;34m\u001b[0m\u001b[0m\n\u001b[0m\u001b[1;32m    315\u001b[0m \u001b[0;34m\u001b[0m\u001b[0m\n\u001b[1;32m    316\u001b[0m             \u001b[0;32mexcept\u001b[0m \u001b[0mTransportError\u001b[0m \u001b[0;32mas\u001b[0m \u001b[0me\u001b[0m\u001b[0;34m:\u001b[0m\u001b[0;34m\u001b[0m\u001b[0m\n",
      "\u001b[0;32m/usr/local/lib/python3.6/site-packages/elasticsearch/connection/http_urllib3.py\u001b[0m in \u001b[0;36mperform_request\u001b[0;34m(self, method, url, params, body, timeout, ignore, headers)\u001b[0m\n\u001b[1;32m    159\u001b[0m         \u001b[0;32mif\u001b[0m \u001b[0;32mnot\u001b[0m \u001b[0;34m(\u001b[0m\u001b[0;36m200\u001b[0m \u001b[0;34m<=\u001b[0m \u001b[0mresponse\u001b[0m\u001b[0;34m.\u001b[0m\u001b[0mstatus\u001b[0m \u001b[0;34m<\u001b[0m \u001b[0;36m300\u001b[0m\u001b[0;34m)\u001b[0m \u001b[0;32mand\u001b[0m \u001b[0mresponse\u001b[0m\u001b[0;34m.\u001b[0m\u001b[0mstatus\u001b[0m \u001b[0;32mnot\u001b[0m \u001b[0;32min\u001b[0m \u001b[0mignore\u001b[0m\u001b[0;34m:\u001b[0m\u001b[0;34m\u001b[0m\u001b[0m\n\u001b[1;32m    160\u001b[0m             \u001b[0mself\u001b[0m\u001b[0;34m.\u001b[0m\u001b[0mlog_request_fail\u001b[0m\u001b[0;34m(\u001b[0m\u001b[0mmethod\u001b[0m\u001b[0;34m,\u001b[0m \u001b[0mfull_url\u001b[0m\u001b[0;34m,\u001b[0m \u001b[0murl\u001b[0m\u001b[0;34m,\u001b[0m \u001b[0mbody\u001b[0m\u001b[0;34m,\u001b[0m \u001b[0mduration\u001b[0m\u001b[0;34m,\u001b[0m \u001b[0mresponse\u001b[0m\u001b[0;34m.\u001b[0m\u001b[0mstatus\u001b[0m\u001b[0;34m,\u001b[0m \u001b[0mraw_data\u001b[0m\u001b[0;34m)\u001b[0m\u001b[0;34m\u001b[0m\u001b[0m\n\u001b[0;32m--> 161\u001b[0;31m             \u001b[0mself\u001b[0m\u001b[0;34m.\u001b[0m\u001b[0m_raise_error\u001b[0m\u001b[0;34m(\u001b[0m\u001b[0mresponse\u001b[0m\u001b[0;34m.\u001b[0m\u001b[0mstatus\u001b[0m\u001b[0;34m,\u001b[0m \u001b[0mraw_data\u001b[0m\u001b[0;34m)\u001b[0m\u001b[0;34m\u001b[0m\u001b[0m\n\u001b[0m\u001b[1;32m    162\u001b[0m \u001b[0;34m\u001b[0m\u001b[0m\n\u001b[1;32m    163\u001b[0m         self.log_request_success(method, full_url, url, body, response.status,\n",
      "\u001b[0;32m/usr/local/lib/python3.6/site-packages/elasticsearch/connection/base.py\u001b[0m in \u001b[0;36m_raise_error\u001b[0;34m(self, status_code, raw_data)\u001b[0m\n\u001b[1;32m    123\u001b[0m             \u001b[0mlogger\u001b[0m\u001b[0;34m.\u001b[0m\u001b[0mwarning\u001b[0m\u001b[0;34m(\u001b[0m\u001b[0;34m'Undecodable raw error response from server: %s'\u001b[0m\u001b[0;34m,\u001b[0m \u001b[0merr\u001b[0m\u001b[0;34m)\u001b[0m\u001b[0;34m\u001b[0m\u001b[0m\n\u001b[1;32m    124\u001b[0m \u001b[0;34m\u001b[0m\u001b[0m\n\u001b[0;32m--> 125\u001b[0;31m         \u001b[0;32mraise\u001b[0m \u001b[0mHTTP_EXCEPTIONS\u001b[0m\u001b[0;34m.\u001b[0m\u001b[0mget\u001b[0m\u001b[0;34m(\u001b[0m\u001b[0mstatus_code\u001b[0m\u001b[0;34m,\u001b[0m \u001b[0mTransportError\u001b[0m\u001b[0;34m)\u001b[0m\u001b[0;34m(\u001b[0m\u001b[0mstatus_code\u001b[0m\u001b[0;34m,\u001b[0m \u001b[0merror_message\u001b[0m\u001b[0;34m,\u001b[0m \u001b[0madditional_info\u001b[0m\u001b[0;34m)\u001b[0m\u001b[0;34m\u001b[0m\u001b[0m\n\u001b[0m\u001b[1;32m    126\u001b[0m \u001b[0;34m\u001b[0m\u001b[0m\n\u001b[1;32m    127\u001b[0m \u001b[0;34m\u001b[0m\u001b[0m\n",
      "\u001b[0;31mNotFoundError\u001b[0m: TransportError(404, 'index_not_found_exception', 'no such index')"
     ]
    }
   ],
   "source": [
    "if dataset_info.get(\"delete_if_exists\", False):\n",
    "    dataset.delete_repository()"
   ]
  },
  {
   "cell_type": "code",
   "execution_count": 15,
   "metadata": {},
   "outputs": [
    {
     "name": "stderr",
     "output_type": "stream",
     "text": [
      "2018-02-27 22:44:04,319 INFO PUT http://elasticsearch:9200/criminal-forum [status:200 request:1.314s]\n"
     ]
    }
   ],
   "source": [
    "if not dataset_info.get(\"skip_creation\", False):\n",
    "    text_fields = dataset_info[\"text_fields\"]\n",
    "    other_fields = dataset_info.get(\"other_fields\")\n",
    "    text_fields = [{\"ID\": f, \"Type\": \"TEXT\"} for f in text_fields]\n",
    "    dataset.create_repository({\"Fields\":text_fields + other_fields}, settings=dataset_info.get(\"settings\", None))"
   ]
  },
  {
   "cell_type": "markdown",
   "metadata": {},
   "source": [
    "# [Import]"
   ]
  },
  {
   "cell_type": "code",
   "execution_count": 16,
   "metadata": {},
   "outputs": [
    {
     "name": "stderr",
     "output_type": "stream",
     "text": [
      "2018-02-27 22:44:11,027 INFO POST http://elasticsearch:9200/_bulk [status:200 request:0.922s]\n",
      "2018-02-27 22:44:14,303 INFO POST http://elasticsearch:9200/_bulk [status:200 request:0.394s]\n",
      "2018-02-27 22:44:17,022 INFO POST http://elasticsearch:9200/_bulk [status:200 request:0.223s]\n",
      "2018-02-27 22:44:19,594 INFO POST http://elasticsearch:9200/_bulk [status:200 request:0.222s]\n",
      "2018-02-27 22:44:22,594 INFO POST http://elasticsearch:9200/_bulk [status:200 request:0.230s]\n",
      "2018-02-27 22:44:27,327 INFO POST http://elasticsearch:9200/_bulk [status:200 request:0.450s]\n",
      "2018-02-27 22:44:30,615 INFO POST http://elasticsearch:9200/_bulk [status:200 request:0.269s]\n",
      "2018-02-27 22:44:33,609 INFO POST http://elasticsearch:9200/_bulk [status:200 request:0.328s]\n",
      "2018-02-27 22:44:36,580 INFO POST http://elasticsearch:9200/_bulk [status:200 request:0.355s]\n",
      "2018-02-27 22:44:39,066 INFO POST http://elasticsearch:9200/_bulk [status:200 request:0.309s]\n",
      "2018-02-27 22:44:42,726 INFO POST http://elasticsearch:9200/_bulk [status:200 request:0.453s]\n",
      "2018-02-27 22:44:45,757 INFO POST http://elasticsearch:9200/_bulk [status:200 request:0.396s]\n",
      "2018-02-27 22:44:48,558 INFO POST http://elasticsearch:9200/_bulk [status:200 request:0.335s]\n",
      "2018-02-27 22:44:51,146 INFO POST http://elasticsearch:9200/_bulk [status:200 request:0.323s]\n",
      "2018-02-27 22:44:53,664 INFO POST http://elasticsearch:9200/_bulk [status:200 request:0.307s]\n",
      "2018-02-27 22:44:56,429 INFO POST http://elasticsearch:9200/_bulk [status:200 request:0.329s]\n",
      "2018-02-27 22:45:00,161 INFO POST http://elasticsearch:9200/_bulk [status:200 request:0.343s]\n",
      "2018-02-27 22:45:06,371 INFO POST http://elasticsearch:9200/_bulk [status:200 request:0.595s]\n",
      "2018-02-27 22:45:10,856 INFO POST http://elasticsearch:9200/_bulk [status:200 request:0.267s]\n",
      "2018-02-27 22:45:14,841 INFO POST http://elasticsearch:9200/_bulk [status:200 request:0.339s]\n",
      "2018-02-27 22:45:18,864 INFO POST http://elasticsearch:9200/_bulk [status:200 request:0.306s]\n",
      "2018-02-27 22:45:28,767 INFO POST http://elasticsearch:9200/_bulk [status:200 request:0.758s]\n",
      "2018-02-27 22:45:35,168 INFO POST http://elasticsearch:9200/_bulk [status:200 request:0.720s]\n",
      "2018-02-27 22:45:39,283 INFO POST http://elasticsearch:9200/_bulk [status:200 request:0.497s]\n",
      "2018-02-27 22:45:42,090 INFO POST http://elasticsearch:9200/_bulk [status:200 request:0.198s]\n",
      "2018-02-27 22:45:47,028 INFO POST http://elasticsearch:9200/_bulk [status:200 request:0.466s]\n",
      "2018-02-27 22:45:50,700 INFO POST http://elasticsearch:9200/_bulk [status:200 request:0.168s]\n",
      "2018-02-27 22:45:55,087 INFO POST http://elasticsearch:9200/_bulk [status:200 request:0.509s]\n",
      "2018-02-27 22:46:03,401 INFO POST http://elasticsearch:9200/_bulk [status:200 request:0.307s]\n",
      "2018-02-27 22:46:07,325 INFO POST http://elasticsearch:9200/_bulk [status:200 request:0.248s]\n",
      "2018-02-27 22:46:10,237 INFO POST http://elasticsearch:9200/_bulk [status:200 request:0.194s]\n",
      "2018-02-27 22:46:12,605 INFO POST http://elasticsearch:9200/_bulk [status:200 request:0.185s]\n"
     ]
    }
   ],
   "source": [
    "dataset.write(get_source_data())\n",
    "print(\"done\")"
   ]
  },
  {
   "cell_type": "markdown",
   "metadata": {},
   "source": [
    "## Check Import"
   ]
  },
  {
   "cell_type": "code",
   "execution_count": 17,
   "metadata": {},
   "outputs": [
    {
     "name": "stderr",
     "output_type": "stream",
     "text": [
      "2018-02-27 22:46:28,225 INFO GET http://elasticsearch:9200/criminal-forum/document/_search?scroll=5m&size=1000 [status:200 request:0.255s]\n",
      "2018-02-27 22:46:28,253 INFO DELETE http://elasticsearch:9200/_search/scroll [status:200 request:0.015s]\n"
     ]
    },
    {
     "name": "stdout",
     "output_type": "stream",
     "text": [
      "('4164713', {'id': '4164713', 'Forum': 'Premium Sellers Section', 'text': \"Skype API's $5.00\\n\\n\\n\\t\\t\\t\\t\\tOkay so I have a Skype system coming along and I was about to sell these to friends but got out of hand so yeah :/\\n\\nLike the title says:\\n\\n$5.00 per lifetime \\n\\n99.9% downtime.\\n\\n\\n\\nMy resolver uses it.\\n\\n http://www.eResolve.info \\n\\n\\n\\nContact me on skype for business.\\n\\nSkype: Live:Mrflippers\\n\\t\\t\\t\\t\"})\n"
     ]
    }
   ],
   "source": [
    "for d in dataset.scan():\n",
    "    print(d)\n",
    "    break"
   ]
  },
  {
   "cell_type": "markdown",
   "metadata": {},
   "source": [
    "# [Import] Add dataset to TexasAPI (Only First Time)"
   ]
  },
  {
   "cell_type": "code",
   "execution_count": 18,
   "metadata": {},
   "outputs": [
    {
     "name": "stdout",
     "output_type": "stream",
     "text": [
      "http://texas-api:4200/api\n",
      "{'name': 'Criminal Forum', 'config': {'client': {'hosts': [{'host': 'elasticsearch', 'port': '9200', 'path': ''}]}, 'index': 'criminal-forum', 'type': 'document'}}\n"
     ]
    }
   ],
   "source": [
    "texas_connection = SPEC[\"texas\"][\"connection\"]\n",
    "texas_client = get_instance(texas_connection[\"type\"], texas_connection[\"connection\"])\n",
    "\n",
    "texas_query = \"\"\"\n",
    "    mutation createDataset($config:JSON!, $name: String!) {\n",
    "      System {\n",
    "        createDataset(dataset: {\n",
    "          Name: $name,\n",
    "          Provider: \"ElasticSearch\"\n",
    "          Config: $config\n",
    "        }){\n",
    "          ID\n",
    "          Name\n",
    "        }   \n",
    "      }\n",
    "    }\"\"\"\n",
    "print({\n",
    "    \"name\": dataset_connection[\"name\"],\n",
    "    \"config\": dataset_connection[\"connection\"]\n",
    "})"
   ]
  },
  {
   "cell_type": "code",
   "execution_count": 19,
   "metadata": {},
   "outputs": [
    {
     "name": "stdout",
     "output_type": "stream",
     "text": [
      "ID:  1\n"
     ]
    }
   ],
   "source": [
    "texas_dataset = texas_client.query({\"query\":texas_query, \"variables\": {\n",
    "    \"name\": dataset_connection[\"name\"],\n",
    "    \"config\": dataset_connection[\"connection\"]\n",
    "}})\n",
    "texa_ID = texas_dataset[\"data\"][\"System\"][\"createDataset\"][\"ID\"]\n",
    "print(\"ID: \",texa_ID)"
   ]
  },
  {
   "cell_type": "code",
   "execution_count": null,
   "metadata": {},
   "outputs": [],
   "source": []
  }
 ],
 "metadata": {
  "kernelspec": {
   "display_name": "Python 3",
   "language": "python",
   "name": "python3"
  },
  "language_info": {
   "codemirror_mode": {
    "name": "ipython",
    "version": 3
   },
   "file_extension": ".py",
   "mimetype": "text/x-python",
   "name": "python",
   "nbconvert_exporter": "python",
   "pygments_lexer": "ipython3",
   "version": "3.6.4"
  }
 },
 "nbformat": 4,
 "nbformat_minor": 2
}
