{
 "cells": [
  {
   "cell_type": "markdown",
   "metadata": {},
   "source": [
    "## [Require Doc2Vec]"
   ]
  },
  {
   "cell_type": "markdown",
   "metadata": {},
   "source": [
    "# Set Auto-load"
   ]
  },
  {
   "cell_type": "code",
   "execution_count": 1,
   "metadata": {},
   "outputs": [],
   "source": [
    "%load_ext autoreload\n",
    "%autoreload 2"
   ]
  },
  {
   "cell_type": "code",
   "execution_count": 14,
   "metadata": {},
   "outputs": [],
   "source": [
    "import os\n",
    "from shutil import copyfile"
   ]
  },
  {
   "cell_type": "markdown",
   "metadata": {},
   "source": [
    "# Parameters"
   ]
  },
  {
   "cell_type": "code",
   "execution_count": 2,
   "metadata": {},
   "outputs": [],
   "source": [
    "DATASET_NAME = \"Criminal Forum\" \n",
    "DATA_FOLDER = \"/data\""
   ]
  },
  {
   "cell_type": "markdown",
   "metadata": {},
   "source": [
    "# Load Specification"
   ]
  },
  {
   "cell_type": "code",
   "execution_count": 3,
   "metadata": {},
   "outputs": [],
   "source": [
    "from notebooks.utils import get_dataset_specification\n",
    "specification, functions = get_dataset_specification(\"Criminal Forum\", \"/data\")"
   ]
  },
  {
   "cell_type": "code",
   "execution_count": 6,
   "metadata": {},
   "outputs": [],
   "source": [
    "dataset_info = specification[\"data_destination\"]\n",
    "dataset_connection = dataset_info[\"connection\"]"
   ]
  },
  {
   "cell_type": "markdown",
   "metadata": {},
   "source": [
    "# Create Store"
   ]
  },
  {
   "cell_type": "code",
   "execution_count": null,
   "metadata": {},
   "outputs": [],
   "source": [
    "store = DataStore.get_instance(data_path=DATA_FOLDER)"
   ]
  },
  {
   "cell_type": "markdown",
   "metadata": {},
   "source": [
    "# [TSNE] Train"
   ]
  },
  {
   "cell_type": "code",
   "execution_count": 12,
   "metadata": {},
   "outputs": [],
   "source": [
    "from import_info import SPEC\n",
    "TSNE = specification.get(\"process\", {}).get(\"TSNE\", None)\n",
    "results = []"
   ]
  },
  {
   "cell_type": "code",
   "execution_count": null,
   "metadata": {},
   "outputs": [],
   "source": [
    "if TSNE:\n",
    "    tsne_data_source = TSNE[\"data_source\"]\n",
    "    tsne_method = TSNE[\"method\"]\n",
    "    print(tsne_method, tsne_data_source)\n",
    "    for field in TSNE[\"fields\"]:\n",
    "        _tsne_data_source = dict(tsne_data_source)\n",
    "        _tsne_data_source[\"model\"] = \"doc2vec_{field}\".format(field=field.lower())\n",
    "        _tsne_method = dict(tsne_method)\n",
    "        _tsne_method[\"model_name\"] = \"tsne_{field}.csv\".format(field=field.lower())\n",
    "        print(\"Model\", _tsne_method[\"model_name\"])\n",
    "        result = learn_projection(_tsne_data_source, _tsne_method, store)\n",
    "        results.append(result)"
   ]
  },
  {
   "cell_type": "markdown",
   "metadata": {},
   "source": [
    "# [TSNE] Plot result"
   ]
  },
  {
   "cell_type": "code",
   "execution_count": null,
   "metadata": {},
   "outputs": [],
   "source": [
    "%pylab inline\n",
    "tsne_result = np.array([[double(r[1]), double(r[2])] for r in results[0]])\n",
    "figure(figsize=(20, 5))\n",
    "s = subplot(121)\n",
    "scatter(tsne_result[:, 0], tsne_result[:, 1], alpha=0.5, s=1)"
   ]
  },
  {
   "cell_type": "markdown",
   "metadata": {},
   "source": [
    "# [TSNE] Copy to Texas API"
   ]
  },
  {
   "cell_type": "code",
   "execution_count": 15,
   "metadata": {},
   "outputs": [],
   "source": [
    "texa_ID = \"1\"\n",
    "tsne_source_folder = \"{root}/{name}/models\".format(\n",
    "    root=DATA_FOLDER, \n",
    "    name=dataset_connection[\"name\"])\n",
    "\n",
    "tsne_data_folder = \"/nlp/projections\"\n",
    "os.makedirs(tsne_data_folder + \"/\" + texa_ID, exist_ok=True)\n",
    "#copyfile()\n",
    "for field in TSNE[\"fields\"]:\n",
    "    file_name = \"tsne_{field}.csv\".format(field=field.lower())\n",
    "    source_file = os.path.join(tsne_source_folder,file_name)\n",
    "    dest_file = os.path.join(tsne_data_folder,texa_ID,file_name)\n",
    "    copyfile(source_file, dest_file)"
   ]
  },
  {
   "cell_type": "code",
   "execution_count": null,
   "metadata": {},
   "outputs": [],
   "source": []
  }
 ],
 "metadata": {
  "kernelspec": {
   "display_name": "Python 3",
   "language": "python",
   "name": "python3"
  },
  "language_info": {
   "codemirror_mode": {
    "name": "ipython",
    "version": 3
   },
   "file_extension": ".py",
   "mimetype": "text/x-python",
   "name": "python",
   "nbconvert_exporter": "python",
   "pygments_lexer": "ipython3",
   "version": "3.6.4"
  }
 },
 "nbformat": 4,
 "nbformat_minor": 2
}
