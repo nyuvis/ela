{
 "cells": [
  {
   "cell_type": "code",
   "execution_count": 1,
   "metadata": {},
   "outputs": [],
   "source": [
    "%load_ext autoreload\n",
    "%autoreload 2"
   ]
  },
  {
   "cell_type": "markdown",
   "metadata": {},
   "source": [
    "# Parameters"
   ]
  },
  {
   "cell_type": "code",
   "execution_count": null,
   "metadata": {},
   "outputs": [],
   "source": [
    "DATASET_NAME = \"Criminal Forum\" \n",
    "DATA_FOLDER = \"/data\""
   ]
  },
  {
   "cell_type": "markdown",
   "metadata": {},
   "source": [
    "# Load Specification"
   ]
  },
  {
   "cell_type": "code",
   "execution_count": 2,
   "metadata": {},
   "outputs": [],
   "source": [
    "from notebooks.utils import get_dataset_specification\n",
    "specification, functions = get_dataset_specification(\"Criminal Forum\", \"/data\")"
   ]
  },
  {
   "cell_type": "markdown",
   "metadata": {},
   "source": [
    "# Create Store"
   ]
  },
  {
   "cell_type": "code",
   "execution_count": null,
   "metadata": {},
   "outputs": [],
   "source": [
    "store = DataStore.get_instance(data_path=DATA_FOLDER)"
   ]
  },
  {
   "cell_type": "markdown",
   "metadata": {},
   "source": [
    "# [Doc2vec] Train"
   ]
  },
  {
   "cell_type": "code",
   "execution_count": null,
   "metadata": {},
   "outputs": [],
   "source": [
    "from import_info import SPEC\n",
    "D2V = SPEC.get(\"process\", {}).get(\"D2V\", None)\n",
    "if D2V:\n",
    "    d2v_data_source = dict(dataset_connection)\n",
    "    d2v_method = D2V[\"method\"]\n",
    "    for field in D2V[\"fields\"]:\n",
    "        _d2v_data_source = dict(d2v_data_source)\n",
    "        _d2v_data_source[\"field\"] =field\n",
    "        _d2v_method = dict(d2v_method)\n",
    "        _d2v_method[\"model_name\"] = \"doc2vec_{field}\".format(field=field.lower())\n",
    "        learn_embedding(_d2v_data_source, _d2v_method, store)"
   ]
  },
  {
   "cell_type": "code",
   "execution_count": null,
   "metadata": {},
   "outputs": [],
   "source": []
  }
 ],
 "metadata": {
  "kernelspec": {
   "display_name": "Python 3",
   "language": "python",
   "name": "python3"
  },
  "language_info": {
   "codemirror_mode": {
    "name": "ipython",
    "version": 3
   },
   "file_extension": ".py",
   "mimetype": "text/x-python",
   "name": "python",
   "nbconvert_exporter": "python",
   "pygments_lexer": "ipython3",
   "version": "3.6.4"
  }
 },
 "nbformat": 4,
 "nbformat_minor": 2
}
