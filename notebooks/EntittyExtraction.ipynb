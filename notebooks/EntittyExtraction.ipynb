{
 "cells": [
  {
   "cell_type": "code",
   "execution_count": 1,
   "metadata": {},
   "outputs": [],
   "source": [
    "%load_ext autoreload\n",
    "%autoreload 2"
   ]
  },
  {
   "cell_type": "code",
   "execution_count": 2,
   "metadata": {},
   "outputs": [],
   "source": [
    "import logging\n",
    "logging.basicConfig(level=logging.INFO, format='%(asctime)s %(levelname)s %(message)s')"
   ]
  },
  {
   "cell_type": "markdown",
   "metadata": {},
   "source": [
    "# Load Dataset"
   ]
  },
  {
   "cell_type": "code",
   "execution_count": 3,
   "metadata": {},
   "outputs": [],
   "source": [
    "DATASET_NAME = \"Agari\" \n",
    "FIELDS = [\"text\"]"
   ]
  },
  {
   "cell_type": "code",
   "execution_count": 4,
   "metadata": {},
   "outputs": [],
   "source": [
    "import spacy\n",
    "from notebooks.utils import get_client\n",
    "dataset = get_client(DATASET_NAME)"
   ]
  },
  {
   "cell_type": "markdown",
   "metadata": {},
   "source": [
    "# Define Entities"
   ]
  },
  {
   "cell_type": "markdown",
   "metadata": {},
   "source": [
    "## REGEX Entities"
   ]
  },
  {
   "cell_type": "code",
   "execution_count": 5,
   "metadata": {},
   "outputs": [],
   "source": [
    "SSN_ENTITY = {\"entity\": \"SSN\", \"TYPE\": \"Regex\", \"pattern\": r\"[0-9]{3}-[0-9]{2}-[0-9]{4}|(ssn|social security)[^0-9]{0,4}\\K([0-9\\-]{9,12})\"}"
   ]
  },
  {
   "cell_type": "markdown",
   "metadata": {},
   "source": [
    "## Only if using NER"
   ]
  },
  {
   "cell_type": "code",
   "execution_count": null,
   "metadata": {},
   "outputs": [],
   "source": [
    "nlp = spacy.load('en_core_web_lg',  enable=['ner'])\n",
    "NER_ENTITY = {\n",
    "    \"entities\": [\"PERSON\", \"ORG\"], \n",
    "    \"TYPE\": \"Model\", \n",
    "    \"model\": nlp,\n",
    "    \"preprocess\": lambda t: t.replace(\"\\n\", \". \"),\n",
    "    \"filter\": lambda value, entity: value.strip() and value not in [\"»\"]\n",
    "}"
   ]
  },
  {
   "cell_type": "markdown",
   "metadata": {},
   "source": [
    "# Load Extractors"
   ]
  },
  {
   "cell_type": "code",
   "execution_count": 6,
   "metadata": {},
   "outputs": [],
   "source": [
    "from texas.ml.entities import extract_entities"
   ]
  },
  {
   "cell_type": "markdown",
   "metadata": {},
   "source": [
    "# Check"
   ]
  },
  {
   "cell_type": "code",
   "execution_count": 7,
   "metadata": {},
   "outputs": [
    {
     "name": "stderr",
     "output_type": "stream",
     "text": [
      "2018-03-22 14:35:30,378 INFO GET http://elasticsearch:9200/agari_conversations/email/_search?scroll=5m&size=1000 [status:200 request:0.327s]\n",
      "2018-03-22 14:35:31,226 INFO DELETE http://elasticsearch:9200/_search/scroll [status:200 request:0.002s]\n"
     ]
    },
    {
     "name": "stdout",
     "output_type": "stream",
     "text": [
      "Example for SSN\n",
      "bournejason519@gmail.com,michael.mun77@gmail.com\n",
      "{'value': '563-98-6250', 'span': [185, 196]}\n",
      "{'value': '092-64-0254', 'span': [650, 661]}\n",
      "{'value': '574-02-4092', 'span': [1165, 1176]}\n",
      "{'value': '574-84-8727', 'span': [1614, 1625]}\n",
      "{'value': '574-56-4331', 'span': [2015, 2026]}\n",
      "{'value': '601-36-5899', 'span': [2462, 2473]}\n",
      "{'value': '170-44-3700', 'span': [2922, 2933]}\n",
      "{'value': '574-90-9752', 'span': [3389, 3400]}\n",
      "{'value': '227-78-4703', 'span': [3792, 3803]}\n",
      "{'value': '574-08-3736', 'span': [4261, 4272]}\n",
      "{'value': '362-88-7385', 'span': [4618, 4629]}\n",
      "{'value': '574-94-8234', 'span': [5056, 5067]}\n",
      "{'value': '537-08-0739', 'span': [5499, 5510]}\n",
      "{'value': '574-26-9327', 'span': [5968, 5979]}\n",
      "{'value': '433-92-7069', 'span': [6306, 6317]}\n",
      "{'value': '477-60-7220', 'span': [6767, 6778]}\n",
      "{'value': '533-68-9264', 'span': [7225, 7236]}\n",
      "{'value': '537-04-8868', 'span': [7688, 7699]}\n",
      "{'value': '071-56-9270', 'span': [8108, 8119]}\n",
      "{'value': '574-80-6103', 'span': [8556, 8567]}\n",
      "{'value': '615-26-3537', 'span': [8997, 9008]}\n",
      "{'value': '574-86-9285', 'span': [9349, 9360]}\n",
      "{'value': '529-55-1250', 'span': [9741, 9752]}\n",
      "{'value': '550-13-0613', 'span': [10167, 10178]}\n",
      "{'value': '574-50-5918', 'span': [10601, 10612]}\n",
      "{'value': '574-94-8918', 'span': [11060, 11071]}\n",
      "{'value': '481-92-7207', 'span': [11503, 11514]}\n",
      "{'value': '563-98-6250', 'span': [185, 196]}\n",
      "{'value': '092-64-0254', 'span': [650, 661]}\n",
      "{'value': '574-02-4092', 'span': [1165, 1176]}\n",
      "{'value': '574-84-8727', 'span': [1614, 1625]}\n",
      "{'value': '574-56-4331', 'span': [2015, 2026]}\n",
      "{'value': '601-36-5899', 'span': [2462, 2473]}\n",
      "{'value': '170-44-3700', 'span': [2922, 2933]}\n",
      "{'value': '574-90-9752', 'span': [3389, 3400]}\n",
      "{'value': '227-78-4703', 'span': [3792, 3803]}\n",
      "{'value': '574-08-3736', 'span': [4261, 4272]}\n",
      "{'value': '362-88-7385', 'span': [4618, 4629]}\n",
      "{'value': '574-94-8234', 'span': [5056, 5067]}\n",
      "{'value': '537-08-0739', 'span': [5499, 5510]}\n",
      "{'value': '574-26-9327', 'span': [5968, 5979]}\n",
      "{'value': '433-92-7069', 'span': [6306, 6317]}\n",
      "{'value': '477-60-7220', 'span': [6767, 6778]}\n",
      "{'value': '533-68-9264', 'span': [7225, 7236]}\n",
      "{'value': '537-04-8868', 'span': [7688, 7699]}\n",
      "{'value': '071-56-9270', 'span': [8108, 8119]}\n",
      "{'value': '574-80-6103', 'span': [8556, 8567]}\n",
      "{'value': '615-26-3537', 'span': [8997, 9008]}\n",
      "{'value': '574-86-9285', 'span': [9349, 9360]}\n",
      "{'value': '529-55-1250', 'span': [9741, 9752]}\n",
      "{'value': '550-13-0613', 'span': [10167, 10178]}\n",
      "{'value': '574-50-5918', 'span': [10601, 10612]}\n",
      "{'value': '574-94-8918', 'span': [11060, 11071]}\n",
      "{'value': '481-92-7207', 'span': [11503, 11514]}\n"
     ]
    }
   ],
   "source": [
    "TEST_ENTITY = \"SSN\"\n",
    "TEST_FIELD = FIELDS[0]\n",
    "\n",
    "entities_to_extract = [SSN_ENTITY]\n",
    "\n",
    "for _id, d in extract_entities(dataset.scan(), entities_to_extract, FIELDS):\n",
    "    if d.get(\"__nlp__\", {}).get(TEST_FIELD, {}).get(TEST_ENTITY, None):\n",
    "        print(\"Example for\", TEST_ENTITY)\n",
    "        print(_id)\n",
    "        for result in d.get(\"__nlp__\", {}).get(TEST_FIELD, {}).get(TEST_ENTITY, []):\n",
    "            print(result)\n",
    "        break"
   ]
  },
  {
   "cell_type": "markdown",
   "metadata": {},
   "source": [
    "# Process Whole Data"
   ]
  },
  {
   "cell_type": "code",
   "execution_count": null,
   "metadata": {},
   "outputs": [],
   "source": [
    "entities_to_extract = [SSN_ENTITY]\n",
    "dataset.write(extract_entities(dataset.scan(), entities_to_extract, FIELDS))"
   ]
  },
  {
   "cell_type": "code",
   "execution_count": null,
   "metadata": {},
   "outputs": [],
   "source": []
  },
  {
   "cell_type": "code",
   "execution_count": null,
   "metadata": {},
   "outputs": [],
   "source": []
  },
  {
   "cell_type": "code",
   "execution_count": null,
   "metadata": {},
   "outputs": [],
   "source": []
  },
  {
   "cell_type": "code",
   "execution_count": null,
   "metadata": {},
   "outputs": [],
   "source": []
  },
  {
   "cell_type": "code",
   "execution_count": null,
   "metadata": {},
   "outputs": [],
   "source": []
  },
  {
   "cell_type": "code",
   "execution_count": null,
   "metadata": {},
   "outputs": [],
   "source": []
  },
  {
   "cell_type": "code",
   "execution_count": null,
   "metadata": {},
   "outputs": [],
   "source": []
  },
  {
   "cell_type": "code",
   "execution_count": null,
   "metadata": {},
   "outputs": [],
   "source": []
  },
  {
   "cell_type": "code",
   "execution_count": null,
   "metadata": {},
   "outputs": [],
   "source": []
  },
  {
   "cell_type": "code",
   "execution_count": null,
   "metadata": {},
   "outputs": [],
   "source": []
  },
  {
   "cell_type": "code",
   "execution_count": null,
   "metadata": {},
   "outputs": [],
   "source": []
  },
  {
   "cell_type": "code",
   "execution_count": null,
   "metadata": {},
   "outputs": [],
   "source": []
  },
  {
   "cell_type": "code",
   "execution_count": null,
   "metadata": {},
   "outputs": [],
   "source": []
  },
  {
   "cell_type": "code",
   "execution_count": null,
   "metadata": {},
   "outputs": [],
   "source": []
  }
 ],
 "metadata": {
  "kernelspec": {
   "display_name": "Python 3",
   "language": "python",
   "name": "python3"
  },
  "language_info": {
   "codemirror_mode": {
    "name": "ipython",
    "version": 3
   },
   "file_extension": ".py",
   "mimetype": "text/x-python",
   "name": "python",
   "nbconvert_exporter": "python",
   "pygments_lexer": "ipython3",
   "version": "3.6.4"
  }
 },
 "nbformat": 4,
 "nbformat_minor": 2
}
