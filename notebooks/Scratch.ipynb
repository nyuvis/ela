{
 "cells": [
  {
   "cell_type": "code",
   "execution_count": 3,
   "metadata": {},
   "outputs": [
    {
     "data": {
      "text/plain": [
       "environ({'PATH': '/usr/local/bin:/usr/local/bin:/usr/local/sbin:/usr/local/bin:/usr/sbin:/usr/bin:/sbin:/bin:/usr/local/lib/python3.6/site-packages/numpy/.libs', 'HOSTNAME': '445faa33b744', 'TERM': 'xterm-color', 'ES_DEFAULT_PORT': '9200', 'TEXAS_DEFAULT_URL': 'http://texas-api:4200/api', 'JUPYTER_PORT': '8888', 'ES_DEFAULT_HOST': 'elasticsearch', 'ES_DEFAULT_PATH': '\"\"', 'no_proxy': '*.local, 169.254/16', 'LANG': 'C.UTF-8', 'GPG_KEY': '0D96DF4D4110E5C43FBFB17F2D347EA6AA65421D', 'PYTHON_VERSION': '3.6.4', 'PYTHON_PIP_VERSION': '9.0.1', 'PYTHONPATH': '/app', 'TEXAS_NLP_DATA_PATH': '/data', 'TXNLP_NOTEBOOKS': '/app/notebooks', 'HOME': '/root', 'JPY_PARENT_PID': '9', 'CLICOLOR': '1', 'PAGER': 'cat', 'GIT_PAGER': 'cat', 'MPLBACKEND': 'module://ipykernel.pylab.backend_inline'})"
      ]
     },
     "execution_count": 3,
     "metadata": {},
     "output_type": "execute_result"
    }
   ],
   "source": [
    "import os\n",
    "os.environ"
   ]
  },
  {
   "cell_type": "code",
   "execution_count": null,
   "metadata": {},
   "outputs": [],
   "source": []
  }
 ],
 "metadata": {
  "kernelspec": {
   "display_name": "Python 3",
   "language": "python",
   "name": "python3"
  },
  "language_info": {
   "codemirror_mode": {
    "name": "ipython",
    "version": 3
   },
   "file_extension": ".py",
   "mimetype": "text/x-python",
   "name": "python",
   "nbconvert_exporter": "python",
   "pygments_lexer": "ipython3",
   "version": "3.6.4"
  }
 },
 "nbformat": 4,
 "nbformat_minor": 2
}
